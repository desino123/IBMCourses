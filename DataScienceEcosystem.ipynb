{
 "cells": [
  {
   "cell_type": "markdown",
   "id": "149f365f-5630-46ad-9a3c-7a7fc23c383f",
   "metadata": {
    "panel-layout": {
     "height": 60.59375,
     "visible": true,
     "width": 100
    }
   },
   "source": [
    "# Data Science Tools and Ecosystem"
   ]
  },
  {
   "cell_type": "markdown",
   "id": "b09dbbbe-1fd6-4dbd-9d36-44da4ec4d041",
   "metadata": {
    "panel-layout": {
     "height": 76.5,
     "visible": true,
     "width": 100
    }
   },
   "source": [
    "## In this notebook, Data Science Tools and Ecosystem are summarized."
   ]
  },
  {
   "cell_type": "markdown",
   "id": "cb4ee1d0-22db-4898-a505-5f4b3027f735",
   "metadata": {
    "panel-layout": {
     "height": 148.84375,
     "visible": true,
     "width": 100
    }
   },
   "source": [
    "**Objectives:**\n",
    "\n",
    "- List popular languages for Data Science\n",
    "- Introduce commonly used libraries by Data Scientists\n",
    "- Demonstrate basic arithmetic operations in Python\n",
    "- Convert minutes to hours using Python\n",
    "- Practice formatting Markdown cells and code cells in Jupyter Notebook\n"
   ]
  },
  {
   "cell_type": "markdown",
   "id": "14bbf829-0aca-415a-b06a-cfe5736721fe",
   "metadata": {
    "editable": true,
    "panel-layout": {
     "height": 146.78125,
     "visible": true,
     "width": 100
    },
    "slideshow": {
     "slide_type": ""
    },
    "tags": []
   },
   "source": [
    "### Some of the popular languages that Data Scientists use are:\n",
    "1.  Python\n",
    "2.  R \n",
    "3.  SQL\n",
    "4.  Java\n",
    "5.  Julia"
   ]
  },
  {
   "cell_type": "markdown",
   "id": "9f684aec-d354-473f-874e-5bdc97a51972",
   "metadata": {
    "panel-layout": {
     "height": 212.9375,
     "visible": true,
     "width": 100
    }
   },
   "source": [
    "## Some of the commonly used libraries used by Data Scientists include:\n",
    "1. Pandas\n",
    "2. Numpy\n",
    "3. MatPlotLib.pyplot\n",
    "4. Seaborn\n",
    "5. Scikit-learn\n",
    "6. Statsmodels\n",
    "7. SciPy"
   ]
  },
  {
   "cell_type": "markdown",
   "id": "4eb8b2a7-36b8-4cb9-a426-e1da9146eb78",
   "metadata": {
    "panel-layout": {
     "height": 123.5625,
     "visible": true,
     "width": 100
    }
   },
   "source": [
    "| Data Science Tools                     |\n",
    "|----------------------------------------|\n",
    "| JupyterLab                             |\n",
    "| RStudio                                |\n",
    "| VS with extensions for Data Science |e |\r\n"
   ]
  },
  {
   "cell_type": "markdown",
   "id": "4a828358-6190-4cbc-a15b-d69083125042",
   "metadata": {
    "panel-layout": {
     "height": 44.09375,
     "visible": true,
     "width": 100
    }
   },
   "source": [
    "### Below are a few examples of evaluating arithmetic expressions in Python"
   ]
  },
  {
   "cell_type": "code",
   "execution_count": 19,
   "id": "2a1f0003-08ae-497a-b026-3e99224f6dc2",
   "metadata": {
    "panel-layout": {
     "height": 0,
     "visible": true,
     "width": 100
    }
   },
   "outputs": [
    {
     "name": "stdout",
     "output_type": "stream",
     "text": [
      "3 x 4 + 5 = 17\n"
     ]
    }
   ],
   "source": [
    "# This is a simple arithmetic expression to multiply then add integers.\n",
    "\n",
    "num1 = 3\n",
    "num2 = 4\n",
    "\n",
    "result = num1 * num2 + 5\n",
    "\n",
    "print(f'3 x 4 + 5 = {result}') "
   ]
  },
  {
   "cell_type": "code",
   "execution_count": 15,
   "id": "5a009726-8272-475d-b0ef-df981a7aec4b",
   "metadata": {
    "panel-layout": {
     "height": 0,
     "visible": true,
     "width": 100
    }
   },
   "outputs": [
    {
     "name": "stdout",
     "output_type": "stream",
     "text": [
      "200 Minutes to hours will be: 3.3 Hours \n"
     ]
    }
   ],
   "source": [
    "# This will convert 200 minutes to hours by diving by 60. \n",
    "\n",
    "minutes = 200\n",
    "divide = 200/60\n",
    "print(f'200 Minutes to hours will be: {divide:.1f} Hours ')"
   ]
  },
  {
   "cell_type": "markdown",
   "id": "64e93327-1d4a-46ad-b8f6-f18bde1f605a",
   "metadata": {
    "panel-layout": {
     "height": 84.390625,
     "visible": true,
     "width": 100
    }
   },
   "source": [
    "## Author's Name\n",
    "\n",
    "**Filipi de Souza Oliveira.**"
   ]
  }
 ],
 "metadata": {
  "kernelspec": {
   "display_name": "Python 3 (ipykernel)",
   "language": "python",
   "name": "python3"
  },
  "language_info": {
   "codemirror_mode": {
    "name": "ipython",
    "version": 3
   },
   "file_extension": ".py",
   "mimetype": "text/x-python",
   "name": "python",
   "nbconvert_exporter": "python",
   "pygments_lexer": "ipython3",
   "version": "3.11.9"
  },
  "panel-cell-order": [
   "149f365f-5630-46ad-9a3c-7a7fc23c383f",
   "b09dbbbe-1fd6-4dbd-9d36-44da4ec4d041",
   "cb4ee1d0-22db-4898-a505-5f4b3027f735",
   "14bbf829-0aca-415a-b06a-cfe5736721fe",
   "9f684aec-d354-473f-874e-5bdc97a51972",
   "4eb8b2a7-36b8-4cb9-a426-e1da9146eb78",
   "4a828358-6190-4cbc-a15b-d69083125042",
   "2a1f0003-08ae-497a-b026-3e99224f6dc2",
   "5a009726-8272-475d-b0ef-df981a7aec4b",
   "64e93327-1d4a-46ad-b8f6-f18bde1f605a"
  ],
  "widgets": {
   "application/vnd.jupyter.widget-state+json": {
    "state": {},
    "version_major": 2,
    "version_minor": 0
   }
  }
 },
 "nbformat": 4,
 "nbformat_minor": 5
}
